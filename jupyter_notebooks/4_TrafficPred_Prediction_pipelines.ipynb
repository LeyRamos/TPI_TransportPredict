{
 "cells": [
  {
   "cell_type": "code",
   "execution_count": 0,
   "metadata": {
    "application/vnd.databricks.v1+cell": {
     "cellMetadata": {
      "byteLimit": 2048000,
      "rowLimit": 10000
     },
     "inputWidgets": {},
     "nuid": "0caf9fda-bf9e-4e61-8b39-d25d582c1528",
     "showTitle": false,
     "title": ""
    }
   },
   "outputs": [
    {
     "output_type": "stream",
     "name": "stdout",
     "output_type": "stream",
     "text": [
      "\u001B[43mNote: you may need to restart the kernel using dbutils.library.restartPython() to use updated packages.\u001B[0m\nRequirement already satisfied: arch in /local_disk0/.ephemeral_nfs/envs/pythonEnv-5ff3446d-bd53-4b21-b587-b479c6c40c68/lib/python3.10/site-packages (7.0.0)\nRequirement already satisfied: statsmodels>=0.12 in /databricks/python3/lib/python3.10/site-packages (from arch) (0.13.2)\nRequirement already satisfied: pandas>=1.4 in /databricks/python3/lib/python3.10/site-packages (from arch) (1.4.4)\nRequirement already satisfied: scipy>=1.8 in /databricks/python3/lib/python3.10/site-packages (from arch) (1.9.1)\nRequirement already satisfied: numpy>=1.22.3 in /local_disk0/.ephemeral_nfs/envs/pythonEnv-5ff3446d-bd53-4b21-b587-b479c6c40c68/lib/python3.10/site-packages (from arch) (1.24.4)\nRequirement already satisfied: python-dateutil>=2.8.1 in /databricks/python3/lib/python3.10/site-packages (from pandas>=1.4->arch) (2.8.2)\nRequirement already satisfied: pytz>=2020.1 in /databricks/python3/lib/python3.10/site-packages (from pandas>=1.4->arch) (2022.1)\nRequirement already satisfied: packaging>=21.3 in /databricks/python3/lib/python3.10/site-packages (from statsmodels>=0.12->arch) (21.3)\nRequirement already satisfied: patsy>=0.5.2 in /databricks/python3/lib/python3.10/site-packages (from statsmodels>=0.12->arch) (0.5.2)\nRequirement already satisfied: pyparsing!=3.0.5,>=2.0.2 in /databricks/python3/lib/python3.10/site-packages (from packaging>=21.3->statsmodels>=0.12->arch) (3.0.9)\nRequirement already satisfied: six in /usr/lib/python3/dist-packages (from patsy>=0.5.2->statsmodels>=0.12->arch) (1.16.0)\n\u001B[43mNote: you may need to restart the kernel using dbutils.library.restartPython() to use updated packages.\u001B[0m\n\u001B[43mNote: you may need to restart the kernel using dbutils.library.restartPython() to use updated packages.\u001B[0m\nRequirement already satisfied: keras in /local_disk0/.ephemeral_nfs/envs/pythonEnv-5ff3446d-bd53-4b21-b587-b479c6c40c68/lib/python3.10/site-packages (3.4.1)\nRequirement already satisfied: absl-py in /local_disk0/.ephemeral_nfs/envs/pythonEnv-5ff3446d-bd53-4b21-b587-b479c6c40c68/lib/python3.10/site-packages (from keras) (2.1.0)\nRequirement already satisfied: optree in /local_disk0/.ephemeral_nfs/envs/pythonEnv-5ff3446d-bd53-4b21-b587-b479c6c40c68/lib/python3.10/site-packages (from keras) (0.12.1)\nRequirement already satisfied: rich in /local_disk0/.ephemeral_nfs/envs/pythonEnv-5ff3446d-bd53-4b21-b587-b479c6c40c68/lib/python3.10/site-packages (from keras) (13.7.1)\nRequirement already satisfied: packaging in /databricks/python3/lib/python3.10/site-packages (from keras) (21.3)\nRequirement already satisfied: namex in /local_disk0/.ephemeral_nfs/envs/pythonEnv-5ff3446d-bd53-4b21-b587-b479c6c40c68/lib/python3.10/site-packages (from keras) (0.0.8)\nRequirement already satisfied: h5py in /local_disk0/.ephemeral_nfs/envs/pythonEnv-5ff3446d-bd53-4b21-b587-b479c6c40c68/lib/python3.10/site-packages (from keras) (3.11.0)\nRequirement already satisfied: numpy in /local_disk0/.ephemeral_nfs/envs/pythonEnv-5ff3446d-bd53-4b21-b587-b479c6c40c68/lib/python3.10/site-packages (from keras) (1.24.4)\nRequirement already satisfied: ml-dtypes in /local_disk0/.ephemeral_nfs/envs/pythonEnv-5ff3446d-bd53-4b21-b587-b479c6c40c68/lib/python3.10/site-packages (from keras) (0.4.0)\nRequirement already satisfied: typing-extensions>=4.5.0 in /local_disk0/.ephemeral_nfs/envs/pythonEnv-5ff3446d-bd53-4b21-b587-b479c6c40c68/lib/python3.10/site-packages (from optree->keras) (4.12.2)\nRequirement already satisfied: pyparsing!=3.0.5,>=2.0.2 in /databricks/python3/lib/python3.10/site-packages (from packaging->keras) (3.0.9)\nRequirement already satisfied: pygments<3.0.0,>=2.13.0 in /local_disk0/.ephemeral_nfs/envs/pythonEnv-5ff3446d-bd53-4b21-b587-b479c6c40c68/lib/python3.10/site-packages (from rich->keras) (2.18.0)\nRequirement already satisfied: markdown-it-py>=2.2.0 in /local_disk0/.ephemeral_nfs/envs/pythonEnv-5ff3446d-bd53-4b21-b587-b479c6c40c68/lib/python3.10/site-packages (from rich->keras) (3.0.0)\nRequirement already satisfied: mdurl~=0.1 in /local_disk0/.ephemeral_nfs/envs/pythonEnv-5ff3446d-bd53-4b21-b587-b479c6c40c68/lib/python3.10/site-packages (from markdown-it-py>=2.2.0->rich->keras) (0.1.2)\n\u001B[43mNote: you may need to restart the kernel using dbutils.library.restartPython() to use updated packages.\u001B[0m\n\u001B[43mNote: you may need to restart the kernel using dbutils.library.restartPython() to use updated packages.\u001B[0m\nRequirement already satisfied: tensorflow in /local_disk0/.ephemeral_nfs/envs/pythonEnv-5ff3446d-bd53-4b21-b587-b479c6c40c68/lib/python3.10/site-packages (2.17.0)\nRequirement already satisfied: opt-einsum>=2.3.2 in /local_disk0/.ephemeral_nfs/envs/pythonEnv-5ff3446d-bd53-4b21-b587-b479c6c40c68/lib/python3.10/site-packages (from tensorflow) (3.3.0)\nRequirement already satisfied: wrapt>=1.11.0 in /local_disk0/.ephemeral_nfs/envs/pythonEnv-5ff3446d-bd53-4b21-b587-b479c6c40c68/lib/python3.10/site-packages (from tensorflow) (1.16.0)\nRequirement already satisfied: keras>=3.2.0 in /local_disk0/.ephemeral_nfs/envs/pythonEnv-5ff3446d-bd53-4b21-b587-b479c6c40c68/lib/python3.10/site-packages (from tensorflow) (3.4.1)\nRequirement already satisfied: libclang>=13.0.0 in /local_disk0/.ephemeral_nfs/envs/pythonEnv-5ff3446d-bd53-4b21-b587-b479c6c40c68/lib/python3.10/site-packages (from tensorflow) (18.1.1)\nRequirement already satisfied: setuptools in /databricks/python3/lib/python3.10/site-packages (from tensorflow) (63.4.1)\nRequirement already satisfied: numpy<2.0.0,>=1.23.5 in /local_disk0/.ephemeral_nfs/envs/pythonEnv-5ff3446d-bd53-4b21-b587-b479c6c40c68/lib/python3.10/site-packages (from tensorflow) (1.24.4)\nRequirement already satisfied: six>=1.12.0 in /usr/lib/python3/dist-packages (from tensorflow) (1.16.0)\nRequirement already satisfied: gast!=0.5.0,!=0.5.1,!=0.5.2,>=0.2.1 in /local_disk0/.ephemeral_nfs/envs/pythonEnv-5ff3446d-bd53-4b21-b587-b479c6c40c68/lib/python3.10/site-packages (from tensorflow) (0.6.0)\nRequirement already satisfied: astunparse>=1.6.0 in /local_disk0/.ephemeral_nfs/envs/pythonEnv-5ff3446d-bd53-4b21-b587-b479c6c40c68/lib/python3.10/site-packages (from tensorflow) (1.6.3)\nRequirement already satisfied: tensorboard<2.18,>=2.17 in /local_disk0/.ephemeral_nfs/envs/pythonEnv-5ff3446d-bd53-4b21-b587-b479c6c40c68/lib/python3.10/site-packages (from tensorflow) (2.17.0)\nRequirement already satisfied: h5py>=3.10.0 in /local_disk0/.ephemeral_nfs/envs/pythonEnv-5ff3446d-bd53-4b21-b587-b479c6c40c68/lib/python3.10/site-packages (from tensorflow) (3.11.0)\nRequirement already satisfied: typing-extensions>=3.6.6 in /local_disk0/.ephemeral_nfs/envs/pythonEnv-5ff3446d-bd53-4b21-b587-b479c6c40c68/lib/python3.10/site-packages (from tensorflow) (4.12.2)\nRequirement already satisfied: flatbuffers>=24.3.25 in /local_disk0/.ephemeral_nfs/envs/pythonEnv-5ff3446d-bd53-4b21-b587-b479c6c40c68/lib/python3.10/site-packages (from tensorflow) (24.3.25)\nRequirement already satisfied: absl-py>=1.0.0 in /local_disk0/.ephemeral_nfs/envs/pythonEnv-5ff3446d-bd53-4b21-b587-b479c6c40c68/lib/python3.10/site-packages (from tensorflow) (2.1.0)\nRequirement already satisfied: requests<3,>=2.21.0 in /databricks/python3/lib/python3.10/site-packages (from tensorflow) (2.28.1)\nRequirement already satisfied: packaging in /databricks/python3/lib/python3.10/site-packages (from tensorflow) (21.3)\nRequirement already satisfied: grpcio<2.0,>=1.24.3 in /local_disk0/.ephemeral_nfs/envs/pythonEnv-5ff3446d-bd53-4b21-b587-b479c6c40c68/lib/python3.10/site-packages (from tensorflow) (1.65.4)\nRequirement already satisfied: termcolor>=1.1.0 in /local_disk0/.ephemeral_nfs/envs/pythonEnv-5ff3446d-bd53-4b21-b587-b479c6c40c68/lib/python3.10/site-packages (from tensorflow) (2.4.0)\nRequirement already satisfied: protobuf!=4.21.0,!=4.21.1,!=4.21.2,!=4.21.3,!=4.21.4,!=4.21.5,<5.0.0dev,>=3.20.3 in /local_disk0/.ephemeral_nfs/envs/pythonEnv-5ff3446d-bd53-4b21-b587-b479c6c40c68/lib/python3.10/site-packages (from tensorflow) (4.25.4)\nRequirement already satisfied: tensorflow-io-gcs-filesystem>=0.23.1 in /local_disk0/.ephemeral_nfs/envs/pythonEnv-5ff3446d-bd53-4b21-b587-b479c6c40c68/lib/python3.10/site-packages (from tensorflow) (0.37.1)\nRequirement already satisfied: google-pasta>=0.1.1 in /local_disk0/.ephemeral_nfs/envs/pythonEnv-5ff3446d-bd53-4b21-b587-b479c6c40c68/lib/python3.10/site-packages (from tensorflow) (0.2.0)\nRequirement already satisfied: ml-dtypes<0.5.0,>=0.3.1 in /local_disk0/.ephemeral_nfs/envs/pythonEnv-5ff3446d-bd53-4b21-b587-b479c6c40c68/lib/python3.10/site-packages (from tensorflow) (0.4.0)\nRequirement already satisfied: wheel<1.0,>=0.23.0 in /databricks/python3/lib/python3.10/site-packages (from astunparse>=1.6.0->tensorflow) (0.37.1)\nRequirement already satisfied: optree in /local_disk0/.ephemeral_nfs/envs/pythonEnv-5ff3446d-bd53-4b21-b587-b479c6c40c68/lib/python3.10/site-packages (from keras>=3.2.0->tensorflow) (0.12.1)\nRequirement already satisfied: rich in /local_disk0/.ephemeral_nfs/envs/pythonEnv-5ff3446d-bd53-4b21-b587-b479c6c40c68/lib/python3.10/site-packages (from keras>=3.2.0->tensorflow) (13.7.1)\nRequirement already satisfied: namex in /local_disk0/.ephemeral_nfs/envs/pythonEnv-5ff3446d-bd53-4b21-b587-b479c6c40c68/lib/python3.10/site-packages (from keras>=3.2.0->tensorflow) (0.0.8)\nRequirement already satisfied: certifi>=2017.4.17 in /databricks/python3/lib/python3.10/site-packages (from requests<3,>=2.21.0->tensorflow) (2022.9.14)\nRequirement already satisfied: idna<4,>=2.5 in /databricks/python3/lib/python3.10/site-packages (from requests<3,>=2.21.0->tensorflow) (3.3)\nRequirement already satisfied: urllib3<1.27,>=1.21.1 in /databricks/python3/lib/python3.10/site-packages (from requests<3,>=2.21.0->tensorflow) (1.26.11)\nRequirement already satisfied: charset-normalizer<3,>=2 in /databricks/python3/lib/python3.10/site-packages (from requests<3,>=2.21.0->tensorflow) (2.0.4)\nRequirement already satisfied: werkzeug>=1.0.1 in /local_disk0/.ephemeral_nfs/envs/pythonEnv-5ff3446d-bd53-4b21-b587-b479c6c40c68/lib/python3.10/site-packages (from tensorboard<2.18,>=2.17->tensorflow) (3.0.3)\nRequirement already satisfied: tensorboard-data-server<0.8.0,>=0.7.0 in /local_disk0/.ephemeral_nfs/envs/pythonEnv-5ff3446d-bd53-4b21-b587-b479c6c40c68/lib/python3.10/site-packages (from tensorboard<2.18,>=2.17->tensorflow) (0.7.2)\nRequirement already satisfied: markdown>=2.6.8 in /local_disk0/.ephemeral_nfs/envs/pythonEnv-5ff3446d-bd53-4b21-b587-b479c6c40c68/lib/python3.10/site-packages (from tensorboard<2.18,>=2.17->tensorflow) (3.6)\nRequirement already satisfied: pyparsing!=3.0.5,>=2.0.2 in /databricks/python3/lib/python3.10/site-packages (from packaging->tensorflow) (3.0.9)\nRequirement already satisfied: MarkupSafe>=2.1.1 in /local_disk0/.ephemeral_nfs/envs/pythonEnv-5ff3446d-bd53-4b21-b587-b479c6c40c68/lib/python3.10/site-packages (from werkzeug>=1.0.1->tensorboard<2.18,>=2.17->tensorflow) (2.1.5)\nRequirement already satisfied: pygments<3.0.0,>=2.13.0 in /local_disk0/.ephemeral_nfs/envs/pythonEnv-5ff3446d-bd53-4b21-b587-b479c6c40c68/lib/python3.10/site-packages (from rich->keras>=3.2.0->tensorflow) (2.18.0)\nRequirement already satisfied: markdown-it-py>=2.2.0 in /local_disk0/.ephemeral_nfs/envs/pythonEnv-5ff3446d-bd53-4b21-b587-b479c6c40c68/lib/python3.10/site-packages (from rich->keras>=3.2.0->tensorflow) (3.0.0)\nRequirement already satisfied: mdurl~=0.1 in /local_disk0/.ephemeral_nfs/envs/pythonEnv-5ff3446d-bd53-4b21-b587-b479c6c40c68/lib/python3.10/site-packages (from markdown-it-py>=2.2.0->rich->keras>=3.2.0->tensorflow) (0.1.2)\n\u001B[43mNote: you may need to restart the kernel using dbutils.library.restartPython() to use updated packages.\u001B[0m\n"
     ]
    }
   ],
   "source": [
    "%pip install arch\n",
    "%pip install keras\n",
    "%pip install tensorflow"
   ]
  },
  {
   "cell_type": "code",
   "execution_count": 0,
   "metadata": {
    "application/vnd.databricks.v1+cell": {
     "cellMetadata": {
      "byteLimit": 2048000,
      "rowLimit": 10000
     },
     "inputWidgets": {},
     "nuid": "9cc81ee6-5058-485d-bf5d-1ef49780b4bc",
     "showTitle": false,
     "title": ""
    }
   },
   "outputs": [],
   "source": [
    "dbutils.library.restartPython()"
   ]
  },
  {
   "cell_type": "code",
   "execution_count": 0,
   "metadata": {
    "application/vnd.databricks.v1+cell": {
     "cellMetadata": {
      "byteLimit": 2048000,
      "rowLimit": 10000
     },
     "inputWidgets": {},
     "nuid": "504fbc5f-834d-4df8-8a1c-2c9f48fb576b",
     "showTitle": false,
     "title": ""
    }
   },
   "outputs": [],
   "source": [
    "import pyspark\n",
    "\n",
    "import pandas as pd\n",
    "import numpy as np\n",
    "import matplotlib.pyplot as plt\n",
    "\n",
    "from pyspark.sql.functions import col\n",
    "from pyspark.sql.types import StructType, StructField, StringType, IntegerType, FloatType, DateType, TimestampType\n",
    "from pyspark.sql.functions import explode, posexplode\n",
    "\n",
    "from arch import arch_model\n",
    "from sklearn.preprocessing import MinMaxScaler\n",
    "from keras.models import Sequential\n",
    "from keras.layers import LSTM, Dense\n",
    "from keras.optimizers import Adam"
   ]
  },
  {
   "cell_type": "code",
   "execution_count": 0,
   "metadata": {
    "application/vnd.databricks.v1+cell": {
     "cellMetadata": {
      "byteLimit": 2048000,
      "rowLimit": 10000
     },
     "inputWidgets": {},
     "nuid": "57141bbc-50a6-4a2c-9cda-c27517c23d29",
     "showTitle": false,
     "title": ""
    }
   },
   "outputs": [],
   "source": [
    "df_bel_stream_15m_complete = spark.table(\"default.df_bel_stream_15m_complete\")\n",
    "\n",
    "df_bel_stream_15m_complete = df_bel_stream_15m_complete.withColumn(\"datetime\", col(\"datetime_full\"))\n",
    "df_bel_stream_15m_complete = df_bel_stream_15m_complete.orderBy(\"datetime_full\")\n",
    "\n",
    "df = df_bel_stream_15m_complete"
   ]
  },
  {
   "cell_type": "code",
   "execution_count": 0,
   "metadata": {
    "application/vnd.databricks.v1+cell": {
     "cellMetadata": {},
     "inputWidgets": {},
     "nuid": "3efaabb8-17f6-414c-87fb-e8456ec5bb0f",
     "showTitle": false,
     "title": ""
    }
   },
   "outputs": [],
   "source": [
    "pdf = df.toPandas()\n",
    "\n",
    "# Asegúrate de que la columna de fecha esté en el formato de fecha correcto\n",
    "pdf['datetime_full'] = pd.to_datetime(pdf['datetime_full'])\n",
    "\n",
    "# Establece la columna de fecha como índice\n",
    "pdf.set_index('datetime_full', inplace=True)"
   ]
  },
  {
   "cell_type": "markdown",
   "metadata": {
    "application/vnd.databricks.v1+cell": {
     "cellMetadata": {},
     "inputWidgets": {},
     "nuid": "0a614571-578a-4650-85af-9187c4e562b4",
     "showTitle": false,
     "title": ""
    }
   },
   "source": [
    "### Modelo ARX-GARCH - Pipeline"
   ]
  },
  {
   "cell_type": "code",
   "execution_count": 0,
   "metadata": {
    "application/vnd.databricks.v1+cell": {
     "cellMetadata": {
      "byteLimit": 2048000,
      "rowLimit": 10000
     },
     "inputWidgets": {},
     "nuid": "bb70aadc-36d4-4ed8-aa3f-b96f67247f3f",
     "showTitle": false,
     "title": ""
    }
   },
   "outputs": [],
   "source": [
    "# Predict over each street\n",
    "def predict_for_segment(segment, window_size, prediction_interval):\n",
    "    predictions = []\n",
    "    \n",
    "    for end in range(window_size, len(segment), prediction_interval):\n",
    "        start = end - window_size\n",
    "        train_data = segment.iloc[start:end][\"count\"]\n",
    "\n",
    "        offset = 0.1\n",
    "        train_data_adjusted = train_data + offset\n",
    "        \n",
    "        # Calcular retornos logarítmicos\n",
    "        log_returns = np.log(train_data_adjusted).diff().dropna()\n",
    "        \n",
    "        # Escalar los retornos\n",
    "        scaling_factor = 10\n",
    "        scaled_returns = log_returns * scaling_factor\n",
    "        \n",
    "        # Ajustar el modelo GARCH(1,1) a los retornos escalados\n",
    "        model = arch_model(scaled_returns, vol='Garch', mean='ARX', p=1, q=2)\n",
    "        model_fit = model.fit(disp='off')\n",
    "        \n",
    "        # Hacer predicción para el siguiente intervalo de 1 hora\n",
    "        forecast = model_fit.forecast(horizon=prediction_interval)\n",
    "        pred_scaled = forecast.mean.iloc[-1].values / scaling_factor  # Desescalar la predicción\n",
    "        \n",
    "        # Convertir los retornos predichos de regreso a count\n",
    "        last_count = train_data_adjusted.iloc[-1]\n",
    "        pred_count = last_count * np.exp(pred_scaled) - offset  # Ajustar por el offset\n",
    "        \n",
    "        # Agregar predicciones a la lista\n",
    "        predictions.extend(pred_count)\n",
    "    \n",
    "    # Crear DataFrame con las predicciones\n",
    "    pred_df = pd.DataFrame(predictions, index=segment.index[window_size:window_size+len(predictions)], columns=[\"predictions\"])\n",
    "    return pred_df\n"
   ]
  },
  {
   "cell_type": "code",
   "execution_count": 0,
   "metadata": {
    "application/vnd.databricks.v1+cell": {
     "cellMetadata": {
      "byteLimit": 2048000,
      "rowLimit": 10000
     },
     "inputWidgets": {},
     "nuid": "87fcbce7-2901-46ad-88a4-1069c6b234e0",
     "showTitle": false,
     "title": ""
    }
   },
   "outputs": [],
   "source": [
    "# Función para aplicar el pipeline a todos los segmentos\n",
    "def apply_pipeline_to_all_segments(df_spark, id_column, window_size, prediction_interval):\n",
    "    result_df = pd.DataFrame()\n",
    "\n",
    "    # Obtener la lista de valores únicos de ID\n",
    "    unique_ids = df_spark.select(id_column).distinct().rdd.flatMap(lambda x: x).collect()\n",
    "\n",
    "    for id_value in unique_ids:\n",
    "        # Filtrar el DataFrame de Spark para el segmento específico\n",
    "        df_segment_spark = df_spark.filter(df_spark[id_column] == id_value)\n",
    "        \n",
    "        # Convertir el DataFrame de Spark a Pandas\n",
    "        pdf = df_segment_spark.toPandas()\n",
    "\n",
    "        # Asegurarte de que la columna de fecha esté en el formato correcto\n",
    "        pdf['datetime_full'] = pd.to_datetime(pdf['datetime_full'])\n",
    "        \n",
    "        # Establecer la columna de fecha como índice\n",
    "        pdf.set_index('datetime_full', inplace=True)\n",
    "\n",
    "        # Aplicar la función de predicción\n",
    "        pred_df = predict_for_segment(pdf, window_size, prediction_interval)\n",
    "        \n",
    "        # Agregar la columna ID a las predicciones para mantener la referencia\n",
    "        pred_df[id_column] = id_value\n",
    "        \n",
    "        # Hacer append de las predicciones al resultado final\n",
    "        result_df = pd.concat([result_df, pred_df], axis=0)\n",
    "    \n",
    "    return result_df"
   ]
  },
  {
   "cell_type": "code",
   "execution_count": 0,
   "metadata": {
    "application/vnd.databricks.v1+cell": {
     "cellMetadata": {
      "byteLimit": 2048000,
      "rowLimit": 10000
     },
     "inputWidgets": {},
     "nuid": "51a352f8-2df8-477c-8559-126d4c3e93de",
     "showTitle": false,
     "title": ""
    }
   },
   "outputs": [
    {
     "output_type": "stream",
     "name": "stderr",
     "output_type": "stream",
     "text": [
      "/local_disk0/.ephemeral_nfs/envs/pythonEnv-5ff3446d-bd53-4b21-b587-b479c6c40c68/lib/python3.10/site-packages/arch/univariate/base.py:766: ConvergenceWarning: The optimizer returned code 8. The message is:\nPositive directional derivative for linesearch\nSee scipy.optimize.fmin_slsqp for code meaning.\n\n  warnings.warn(\n/local_disk0/.ephemeral_nfs/envs/pythonEnv-5ff3446d-bd53-4b21-b587-b479c6c40c68/lib/python3.10/site-packages/arch/univariate/base.py:766: ConvergenceWarning: The optimizer returned code 8. The message is:\nPositive directional derivative for linesearch\nSee scipy.optimize.fmin_slsqp for code meaning.\n\n  warnings.warn(\n/local_disk0/.ephemeral_nfs/envs/pythonEnv-5ff3446d-bd53-4b21-b587-b479c6c40c68/lib/python3.10/site-packages/arch/univariate/base.py:766: ConvergenceWarning: The optimizer returned code 8. The message is:\nPositive directional derivative for linesearch\nSee scipy.optimize.fmin_slsqp for code meaning.\n\n  warnings.warn(\n/local_disk0/.ephemeral_nfs/envs/pythonEnv-5ff3446d-bd53-4b21-b587-b479c6c40c68/lib/python3.10/site-packages/arch/univariate/base.py:766: ConvergenceWarning: The optimizer returned code 8. The message is:\nPositive directional derivative for linesearch\nSee scipy.optimize.fmin_slsqp for code meaning.\n\n  warnings.warn(\n/local_disk0/.ephemeral_nfs/envs/pythonEnv-5ff3446d-bd53-4b21-b587-b479c6c40c68/lib/python3.10/site-packages/arch/univariate/base.py:766: ConvergenceWarning: The optimizer returned code 8. The message is:\nPositive directional derivative for linesearch\nSee scipy.optimize.fmin_slsqp for code meaning.\n\n  warnings.warn(\n/local_disk0/.ephemeral_nfs/envs/pythonEnv-5ff3446d-bd53-4b21-b587-b479c6c40c68/lib/python3.10/site-packages/arch/univariate/base.py:766: ConvergenceWarning: The optimizer returned code 8. The message is:\nPositive directional derivative for linesearch\nSee scipy.optimize.fmin_slsqp for code meaning.\n\n  warnings.warn(\n/local_disk0/.ephemeral_nfs/envs/pythonEnv-5ff3446d-bd53-4b21-b587-b479c6c40c68/lib/python3.10/site-packages/arch/univariate/base.py:766: ConvergenceWarning: The optimizer returned code 8. The message is:\nPositive directional derivative for linesearch\nSee scipy.optimize.fmin_slsqp for code meaning.\n\n  warnings.warn(\n/local_disk0/.ephemeral_nfs/envs/pythonEnv-5ff3446d-bd53-4b21-b587-b479c6c40c68/lib/python3.10/site-packages/arch/univariate/base.py:766: ConvergenceWarning: The optimizer returned code 8. The message is:\nPositive directional derivative for linesearch\nSee scipy.optimize.fmin_slsqp for code meaning.\n\n  warnings.warn(\n/local_disk0/.ephemeral_nfs/envs/pythonEnv-5ff3446d-bd53-4b21-b587-b479c6c40c68/lib/python3.10/site-packages/arch/univariate/base.py:766: ConvergenceWarning: The optimizer returned code 8. The message is:\nPositive directional derivative for linesearch\nSee scipy.optimize.fmin_slsqp for code meaning.\n\n  warnings.warn(\n/local_disk0/.ephemeral_nfs/envs/pythonEnv-5ff3446d-bd53-4b21-b587-b479c6c40c68/lib/python3.10/site-packages/arch/univariate/base.py:766: ConvergenceWarning: The optimizer returned code 8. The message is:\nPositive directional derivative for linesearch\nSee scipy.optimize.fmin_slsqp for code meaning.\n\n  warnings.warn(\n/local_disk0/.ephemeral_nfs/envs/pythonEnv-5ff3446d-bd53-4b21-b587-b479c6c40c68/lib/python3.10/site-packages/arch/univariate/base.py:766: ConvergenceWarning: The optimizer returned code 8. The message is:\nPositive directional derivative for linesearch\nSee scipy.optimize.fmin_slsqp for code meaning.\n\n  warnings.warn(\n/local_disk0/.ephemeral_nfs/envs/pythonEnv-5ff3446d-bd53-4b21-b587-b479c6c40c68/lib/python3.10/site-packages/arch/univariate/base.py:766: ConvergenceWarning: The optimizer returned code 8. The message is:\nPositive directional derivative for linesearch\nSee scipy.optimize.fmin_slsqp for code meaning.\n\n  warnings.warn(\n/local_disk0/.ephemeral_nfs/envs/pythonEnv-5ff3446d-bd53-4b21-b587-b479c6c40c68/lib/python3.10/site-packages/arch/univariate/base.py:766: ConvergenceWarning: The optimizer returned code 8. The message is:\nPositive directional derivative for linesearch\nSee scipy.optimize.fmin_slsqp for code meaning.\n\n  warnings.warn(\n/local_disk0/.ephemeral_nfs/envs/pythonEnv-5ff3446d-bd53-4b21-b587-b479c6c40c68/lib/python3.10/site-packages/arch/univariate/base.py:766: ConvergenceWarning: The optimizer returned code 8. The message is:\nPositive directional derivative for linesearch\nSee scipy.optimize.fmin_slsqp for code meaning.\n\n  warnings.warn(\n/local_disk0/.ephemeral_nfs/envs/pythonEnv-5ff3446d-bd53-4b21-b587-b479c6c40c68/lib/python3.10/site-packages/arch/univariate/base.py:766: ConvergenceWarning: The optimizer returned code 8. The message is:\nPositive directional derivative for linesearch\nSee scipy.optimize.fmin_slsqp for code meaning.\n\n  warnings.warn(\n/local_disk0/.ephemeral_nfs/envs/pythonEnv-5ff3446d-bd53-4b21-b587-b479c6c40c68/lib/python3.10/site-packages/arch/univariate/base.py:766: ConvergenceWarning: The optimizer returned code 8. The message is:\nPositive directional derivative for linesearch\nSee scipy.optimize.fmin_slsqp for code meaning.\n\n  warnings.warn(\n/local_disk0/.ephemeral_nfs/envs/pythonEnv-5ff3446d-bd53-4b21-b587-b479c6c40c68/lib/python3.10/site-packages/arch/univariate/base.py:766: ConvergenceWarning: The optimizer returned code 8. The message is:\nPositive directional derivative for linesearch\nSee scipy.optimize.fmin_slsqp for code meaning.\n\n  warnings.warn(\n/local_disk0/.ephemeral_nfs/envs/pythonEnv-5ff3446d-bd53-4b21-b587-b479c6c40c68/lib/python3.10/site-packages/arch/univariate/base.py:766: ConvergenceWarning: The optimizer returned code 8. The message is:\nPositive directional derivative for linesearch\nSee scipy.optimize.fmin_slsqp for code meaning.\n\n  warnings.warn(\n/local_disk0/.ephemeral_nfs/envs/pythonEnv-5ff3446d-bd53-4b21-b587-b479c6c40c68/lib/python3.10/site-packages/arch/univariate/base.py:766: ConvergenceWarning: The optimizer returned code 8. The message is:\nPositive directional derivative for linesearch\nSee scipy.optimize.fmin_slsqp for code meaning.\n\n  warnings.warn(\n/local_disk0/.ephemeral_nfs/envs/pythonEnv-5ff3446d-bd53-4b21-b587-b479c6c40c68/lib/python3.10/site-packages/arch/univariate/base.py:766: ConvergenceWarning: The optimizer returned code 8. The message is:\nPositive directional derivative for linesearch\nSee scipy.optimize.fmin_slsqp for code meaning.\n\n  warnings.warn(\n/local_disk0/.ephemeral_nfs/envs/pythonEnv-5ff3446d-bd53-4b21-b587-b479c6c40c68/lib/python3.10/site-packages/arch/univariate/base.py:766: ConvergenceWarning: The optimizer returned code 8. The message is:\nPositive directional derivative for linesearch\nSee scipy.optimize.fmin_slsqp for code meaning.\n\n  warnings.warn(\n/local_disk0/.ephemeral_nfs/envs/pythonEnv-5ff3446d-bd53-4b21-b587-b479c6c40c68/lib/python3.10/site-packages/arch/univariate/base.py:766: ConvergenceWarning: The optimizer returned code 8. The message is:\nPositive directional derivative for linesearch\nSee scipy.optimize.fmin_slsqp for code meaning.\n\n  warnings.warn(\n/local_disk0/.ephemeral_nfs/envs/pythonEnv-5ff3446d-bd53-4b21-b587-b479c6c40c68/lib/python3.10/site-packages/arch/univariate/base.py:766: ConvergenceWarning: The optimizer returned code 8. The message is:\nPositive directional derivative for linesearch\nSee scipy.optimize.fmin_slsqp for code meaning.\n\n  warnings.warn(\n/local_disk0/.ephemeral_nfs/envs/pythonEnv-5ff3446d-bd53-4b21-b587-b479c6c40c68/lib/python3.10/site-packages/arch/univariate/base.py:766: ConvergenceWarning: The optimizer returned code 8. The message is:\nPositive directional derivative for linesearch\nSee scipy.optimize.fmin_slsqp for code meaning.\n\n  warnings.warn(\n/local_disk0/.ephemeral_nfs/envs/pythonEnv-5ff3446d-bd53-4b21-b587-b479c6c40c68/lib/python3.10/site-packages/arch/univariate/base.py:766: ConvergenceWarning: The optimizer returned code 8. The message is:\nPositive directional derivative for linesearch\nSee scipy.optimize.fmin_slsqp for code meaning.\n\n  warnings.warn(\n/local_disk0/.ephemeral_nfs/envs/pythonEnv-5ff3446d-bd53-4b21-b587-b479c6c40c68/lib/python3.10/site-packages/arch/univariate/base.py:766: ConvergenceWarning: The optimizer returned code 8. The message is:\nPositive directional derivative for linesearch\nSee scipy.optimize.fmin_slsqp for code meaning.\n\n  warnings.warn(\n/local_disk0/.ephemeral_nfs/envs/pythonEnv-5ff3446d-bd53-4b21-b587-b479c6c40c68/lib/python3.10/site-packages/arch/univariate/base.py:766: ConvergenceWarning: The optimizer returned code 8. The message is:\nPositive directional derivative for linesearch\nSee scipy.optimize.fmin_slsqp for code meaning.\n\n  warnings.warn(\n/local_disk0/.ephemeral_nfs/envs/pythonEnv-5ff3446d-bd53-4b21-b587-b479c6c40c68/lib/python3.10/site-packages/arch/univariate/base.py:766: ConvergenceWarning: The optimizer returned code 8. The message is:\nPositive directional derivative for linesearch\nSee scipy.optimize.fmin_slsqp for code meaning.\n\n  warnings.warn(\n/local_disk0/.ephemeral_nfs/envs/pythonEnv-5ff3446d-bd53-4b21-b587-b479c6c40c68/lib/python3.10/site-packages/arch/univariate/base.py:766: ConvergenceWarning: The optimizer returned code 8. The message is:\nPositive directional derivative for linesearch\nSee scipy.optimize.fmin_slsqp for code meaning.\n\n  warnings.warn(\n/local_disk0/.ephemeral_nfs/envs/pythonEnv-5ff3446d-bd53-4b21-b587-b479c6c40c68/lib/python3.10/site-packages/arch/univariate/base.py:766: ConvergenceWarning: The optimizer returned code 8. The message is:\nPositive directional derivative for linesearch\nSee scipy.optimize.fmin_slsqp for code meaning.\n\n  warnings.warn(\n/local_disk0/.ephemeral_nfs/envs/pythonEnv-5ff3446d-bd53-4b21-b587-b479c6c40c68/lib/python3.10/site-packages/arch/univariate/base.py:766: ConvergenceWarning: The optimizer returned code 8. The message is:\nPositive directional derivative for linesearch\nSee scipy.optimize.fmin_slsqp for code meaning.\n\n  warnings.warn(\n/local_disk0/.ephemeral_nfs/envs/pythonEnv-5ff3446d-bd53-4b21-b587-b479c6c40c68/lib/python3.10/site-packages/arch/univariate/base.py:766: ConvergenceWarning: The optimizer returned code 8. The message is:\nPositive directional derivative for linesearch\nSee scipy.optimize.fmin_slsqp for code meaning.\n\n  warnings.warn(\n/local_disk0/.ephemeral_nfs/envs/pythonEnv-5ff3446d-bd53-4b21-b587-b479c6c40c68/lib/python3.10/site-packages/arch/univariate/base.py:766: ConvergenceWarning: The optimizer returned code 8. The message is:\nPositive directional derivative for linesearch\nSee scipy.optimize.fmin_slsqp for code meaning.\n\n  warnings.warn(\n/local_disk0/.ephemeral_nfs/envs/pythonEnv-5ff3446d-bd53-4b21-b587-b479c6c40c68/lib/python3.10/site-packages/arch/univariate/base.py:766: ConvergenceWarning: The optimizer returned code 8. The message is:\nPositive directional derivative for linesearch\nSee scipy.optimize.fmin_slsqp for code meaning.\n\n  warnings.warn(\n/local_disk0/.ephemeral_nfs/envs/pythonEnv-5ff3446d-bd53-4b21-b587-b479c6c40c68/lib/python3.10/site-packages/arch/univariate/base.py:766: ConvergenceWarning: The optimizer returned code 8. The message is:\nPositive directional derivative for linesearch\nSee scipy.optimize.fmin_slsqp for code meaning.\n\n  warnings.warn(\n/local_disk0/.ephemeral_nfs/envs/pythonEnv-5ff3446d-bd53-4b21-b587-b479c6c40c68/lib/python3.10/site-packages/arch/univariate/base.py:766: ConvergenceWarning: The optimizer returned code 8. The message is:\nPositive directional derivative for linesearch\nSee scipy.optimize.fmin_slsqp for code meaning.\n\n  warnings.warn(\n/local_disk0/.ephemeral_nfs/envs/pythonEnv-5ff3446d-bd53-4b21-b587-b479c6c40c68/lib/python3.10/site-packages/arch/univariate/base.py:766: ConvergenceWarning: The optimizer returned code 8. The message is:\nPositive directional derivative for linesearch\nSee scipy.optimize.fmin_slsqp for code meaning.\n\n  warnings.warn(\n/local_disk0/.ephemeral_nfs/envs/pythonEnv-5ff3446d-bd53-4b21-b587-b479c6c40c68/lib/python3.10/site-packages/arch/univariate/base.py:766: ConvergenceWarning: The optimizer returned code 8. The message is:\nPositive directional derivative for linesearch\nSee scipy.optimize.fmin_slsqp for code meaning.\n\n  warnings.warn(\n/local_disk0/.ephemeral_nfs/envs/pythonEnv-5ff3446d-bd53-4b21-b587-b479c6c40c68/lib/python3.10/site-packages/arch/univariate/base.py:766: ConvergenceWarning: The optimizer returned code 8. The message is:\nPositive directional derivative for linesearch\nSee scipy.optimize.fmin_slsqp for code meaning.\n\n  warnings.warn(\n/local_disk0/.ephemeral_nfs/envs/pythonEnv-5ff3446d-bd53-4b21-b587-b479c6c40c68/lib/python3.10/site-packages/arch/univariate/base.py:766: ConvergenceWarning: The optimizer returned code 8. The message is:\nPositive directional derivative for linesearch\nSee scipy.optimize.fmin_slsqp for code meaning.\n\n  warnings.warn(\n/local_disk0/.ephemeral_nfs/envs/pythonEnv-5ff3446d-bd53-4b21-b587-b479c6c40c68/lib/python3.10/site-packages/arch/univariate/base.py:766: ConvergenceWarning: The optimizer returned code 8. The message is:\nPositive directional derivative for linesearch\nSee scipy.optimize.fmin_slsqp for code meaning.\n\n  warnings.warn(\n/local_disk0/.ephemeral_nfs/envs/pythonEnv-5ff3446d-bd53-4b21-b587-b479c6c40c68/lib/python3.10/site-packages/arch/univariate/base.py:766: ConvergenceWarning: The optimizer returned code 8. The message is:\nPositive directional derivative for linesearch\nSee scipy.optimize.fmin_slsqp for code meaning.\n\n  warnings.warn(\n/local_disk0/.ephemeral_nfs/envs/pythonEnv-5ff3446d-bd53-4b21-b587-b479c6c40c68/lib/python3.10/site-packages/arch/univariate/base.py:766: ConvergenceWarning: The optimizer returned code 4. The message is:\nInequality constraints incompatible\nSee scipy.optimize.fmin_slsqp for code meaning.\n\n  warnings.warn(\n/local_disk0/.ephemeral_nfs/envs/pythonEnv-5ff3446d-bd53-4b21-b587-b479c6c40c68/lib/python3.10/site-packages/arch/univariate/base.py:766: ConvergenceWarning: The optimizer returned code 8. The message is:\nPositive directional derivative for linesearch\nSee scipy.optimize.fmin_slsqp for code meaning.\n\n  warnings.warn(\n/local_disk0/.ephemeral_nfs/envs/pythonEnv-5ff3446d-bd53-4b21-b587-b479c6c40c68/lib/python3.10/site-packages/arch/univariate/base.py:766: ConvergenceWarning: The optimizer returned code 8. The message is:\nPositive directional derivative for linesearch\nSee scipy.optimize.fmin_slsqp for code meaning.\n\n  warnings.warn(\n/local_disk0/.ephemeral_nfs/envs/pythonEnv-5ff3446d-bd53-4b21-b587-b479c6c40c68/lib/python3.10/site-packages/arch/univariate/base.py:766: ConvergenceWarning: The optimizer returned code 8. The message is:\nPositive directional derivative for linesearch\nSee scipy.optimize.fmin_slsqp for code meaning.\n\n  warnings.warn(\n/local_disk0/.ephemeral_nfs/envs/pythonEnv-5ff3446d-bd53-4b21-b587-b479c6c40c68/lib/python3.10/site-packages/arch/univariate/base.py:766: ConvergenceWarning: The optimizer returned code 8. The message is:\nPositive directional derivative for linesearch\nSee scipy.optimize.fmin_slsqp for code meaning.\n\n  warnings.warn(\n/local_disk0/.ephemeral_nfs/envs/pythonEnv-5ff3446d-bd53-4b21-b587-b479c6c40c68/lib/python3.10/site-packages/arch/univariate/base.py:766: ConvergenceWarning: The optimizer returned code 8. The message is:\nPositive directional derivative for linesearch\nSee scipy.optimize.fmin_slsqp for code meaning.\n\n  warnings.warn(\n/local_disk0/.ephemeral_nfs/envs/pythonEnv-5ff3446d-bd53-4b21-b587-b479c6c40c68/lib/python3.10/site-packages/arch/univariate/base.py:766: ConvergenceWarning: The optimizer returned code 8. The message is:\nPositive directional derivative for linesearch\nSee scipy.optimize.fmin_slsqp for code meaning.\n\n  warnings.warn(\n/local_disk0/.ephemeral_nfs/envs/pythonEnv-5ff3446d-bd53-4b21-b587-b479c6c40c68/lib/python3.10/site-packages/arch/univariate/base.py:766: ConvergenceWarning: The optimizer returned code 8. The message is:\nPositive directional derivative for linesearch\nSee scipy.optimize.fmin_slsqp for code meaning.\n\n  warnings.warn(\n/local_disk0/.ephemeral_nfs/envs/pythonEnv-5ff3446d-bd53-4b21-b587-b479c6c40c68/lib/python3.10/site-packages/arch/univariate/base.py:766: ConvergenceWarning: The optimizer returned code 8. The message is:\nPositive directional derivative for linesearch\nSee scipy.optimize.fmin_slsqp for code meaning.\n\n  warnings.warn(\n/local_disk0/.ephemeral_nfs/envs/pythonEnv-5ff3446d-bd53-4b21-b587-b479c6c40c68/lib/python3.10/site-packages/arch/univariate/base.py:766: ConvergenceWarning: The optimizer returned code 8. The message is:\nPositive directional derivative for linesearch\nSee scipy.optimize.fmin_slsqp for code meaning.\n\n  warnings.warn(\n/local_disk0/.ephemeral_nfs/envs/pythonEnv-5ff3446d-bd53-4b21-b587-b479c6c40c68/lib/python3.10/site-packages/arch/univariate/base.py:766: ConvergenceWarning: The optimizer returned code 8. The message is:\nPositive directional derivative for linesearch\nSee scipy.optimize.fmin_slsqp for code meaning.\n\n  warnings.warn(\n/local_disk0/.ephemeral_nfs/envs/pythonEnv-5ff3446d-bd53-4b21-b587-b479c6c40c68/lib/python3.10/site-packages/arch/univariate/base.py:766: ConvergenceWarning: The optimizer returned code 8. The message is:\nPositive directional derivative for linesearch\nSee scipy.optimize.fmin_slsqp for code meaning.\n\n  warnings.warn(\n/local_disk0/.ephemeral_nfs/envs/pythonEnv-5ff3446d-bd53-4b21-b587-b479c6c40c68/lib/python3.10/site-packages/arch/univariate/base.py:766: ConvergenceWarning: The optimizer returned code 8. The message is:\nPositive directional derivative for linesearch\nSee scipy.optimize.fmin_slsqp for code meaning.\n\n  warnings.warn(\n/local_disk0/.ephemeral_nfs/envs/pythonEnv-5ff3446d-bd53-4b21-b587-b479c6c40c68/lib/python3.10/site-packages/arch/univariate/base.py:766: ConvergenceWarning: The optimizer returned code 8. The message is:\nPositive directional derivative for linesearch\nSee scipy.optimize.fmin_slsqp for code meaning.\n\n  warnings.warn(\n/local_disk0/.ephemeral_nfs/envs/pythonEnv-5ff3446d-bd53-4b21-b587-b479c6c40c68/lib/python3.10/site-packages/arch/univariate/base.py:766: ConvergenceWarning: The optimizer returned code 8. The message is:\nPositive directional derivative for linesearch\nSee scipy.optimize.fmin_slsqp for code meaning.\n\n  warnings.warn(\n/local_disk0/.ephemeral_nfs/envs/pythonEnv-5ff3446d-bd53-4b21-b587-b479c6c40c68/lib/python3.10/site-packages/arch/univariate/base.py:766: ConvergenceWarning: The optimizer returned code 8. The message is:\nPositive directional derivative for linesearch\nSee scipy.optimize.fmin_slsqp for code meaning.\n\n  warnings.warn(\n/local_disk0/.ephemeral_nfs/envs/pythonEnv-5ff3446d-bd53-4b21-b587-b479c6c40c68/lib/python3.10/site-packages/arch/univariate/base.py:766: ConvergenceWarning: The optimizer returned code 8. The message is:\nPositive directional derivative for linesearch\nSee scipy.optimize.fmin_slsqp for code meaning.\n\n  warnings.warn(\n/local_disk0/.ephemeral_nfs/envs/pythonEnv-5ff3446d-bd53-4b21-b587-b479c6c40c68/lib/python3.10/site-packages/arch/univariate/base.py:766: ConvergenceWarning: The optimizer returned code 8. The message is:\nPositive directional derivative for linesearch\nSee scipy.optimize.fmin_slsqp for code meaning.\n\n  warnings.warn(\n/local_disk0/.ephemeral_nfs/envs/pythonEnv-5ff3446d-bd53-4b21-b587-b479c6c40c68/lib/python3.10/site-packages/arch/univariate/base.py:766: ConvergenceWarning: The optimizer returned code 8. The message is:\nPositive directional derivative for linesearch\nSee scipy.optimize.fmin_slsqp for code meaning.\n\n  warnings.warn(\n/local_disk0/.ephemeral_nfs/envs/pythonEnv-5ff3446d-bd53-4b21-b587-b479c6c40c68/lib/python3.10/site-packages/arch/univariate/base.py:766: ConvergenceWarning: The optimizer returned code 8. The message is:\nPositive directional derivative for linesearch\nSee scipy.optimize.fmin_slsqp for code meaning.\n\n  warnings.warn(\n/local_disk0/.ephemeral_nfs/envs/pythonEnv-5ff3446d-bd53-4b21-b587-b479c6c40c68/lib/python3.10/site-packages/arch/univariate/base.py:766: ConvergenceWarning: The optimizer returned code 8. The message is:\nPositive directional derivative for linesearch\nSee scipy.optimize.fmin_slsqp for code meaning.\n\n  warnings.warn(\n/local_disk0/.ephemeral_nfs/envs/pythonEnv-5ff3446d-bd53-4b21-b587-b479c6c40c68/lib/python3.10/site-packages/arch/univariate/base.py:766: ConvergenceWarning: The optimizer returned code 8. The message is:\nPositive directional derivative for linesearch\nSee scipy.optimize.fmin_slsqp for code meaning.\n\n  warnings.warn(\n/local_disk0/.ephemeral_nfs/envs/pythonEnv-5ff3446d-bd53-4b21-b587-b479c6c40c68/lib/python3.10/site-packages/arch/univariate/base.py:766: ConvergenceWarning: The optimizer returned code 8. The message is:\nPositive directional derivative for linesearch\nSee scipy.optimize.fmin_slsqp for code meaning.\n\n  warnings.warn(\n/local_disk0/.ephemeral_nfs/envs/pythonEnv-5ff3446d-bd53-4b21-b587-b479c6c40c68/lib/python3.10/site-packages/arch/univariate/base.py:766: ConvergenceWarning: The optimizer returned code 8. The message is:\nPositive directional derivative for linesearch\nSee scipy.optimize.fmin_slsqp for code meaning.\n\n  warnings.warn(\n/local_disk0/.ephemeral_nfs/envs/pythonEnv-5ff3446d-bd53-4b21-b587-b479c6c40c68/lib/python3.10/site-packages/arch/univariate/base.py:766: ConvergenceWarning: The optimizer returned code 8. The message is:\nPositive directional derivative for linesearch\nSee scipy.optimize.fmin_slsqp for code meaning.\n\n  warnings.warn(\n/local_disk0/.ephemeral_nfs/envs/pythonEnv-5ff3446d-bd53-4b21-b587-b479c6c40c68/lib/python3.10/site-packages/arch/univariate/base.py:766: ConvergenceWarning: The optimizer returned code 8. The message is:\nPositive directional derivative for linesearch\nSee scipy.optimize.fmin_slsqp for code meaning.\n\n  warnings.warn(\n/local_disk0/.ephemeral_nfs/envs/pythonEnv-5ff3446d-bd53-4b21-b587-b479c6c40c68/lib/python3.10/site-packages/arch/univariate/base.py:766: ConvergenceWarning: The optimizer returned code 8. The message is:\nPositive directional derivative for linesearch\nSee scipy.optimize.fmin_slsqp for code meaning.\n\n  warnings.warn(\n/local_disk0/.ephemeral_nfs/envs/pythonEnv-5ff3446d-bd53-4b21-b587-b479c6c40c68/lib/python3.10/site-packages/arch/univariate/base.py:766: ConvergenceWarning: The optimizer returned code 8. The message is:\nPositive directional derivative for linesearch\nSee scipy.optimize.fmin_slsqp for code meaning.\n\n  warnings.warn(\n/local_disk0/.ephemeral_nfs/envs/pythonEnv-5ff3446d-bd53-4b21-b587-b479c6c40c68/lib/python3.10/site-packages/arch/univariate/base.py:766: ConvergenceWarning: The optimizer returned code 8. The message is:\nPositive directional derivative for linesearch\nSee scipy.optimize.fmin_slsqp for code meaning.\n\n  warnings.warn(\n/local_disk0/.ephemeral_nfs/envs/pythonEnv-5ff3446d-bd53-4b21-b587-b479c6c40c68/lib/python3.10/site-packages/arch/univariate/base.py:766: ConvergenceWarning: The optimizer returned code 8. The message is:\nPositive directional derivative for linesearch\nSee scipy.optimize.fmin_slsqp for code meaning.\n\n  warnings.warn(\n/local_disk0/.ephemeral_nfs/envs/pythonEnv-5ff3446d-bd53-4b21-b587-b479c6c40c68/lib/python3.10/site-packages/arch/univariate/base.py:766: ConvergenceWarning: The optimizer returned code 8. The message is:\nPositive directional derivative for linesearch\nSee scipy.optimize.fmin_slsqp for code meaning.\n\n  warnings.warn(\n/local_disk0/.ephemeral_nfs/envs/pythonEnv-5ff3446d-bd53-4b21-b587-b479c6c40c68/lib/python3.10/site-packages/arch/univariate/base.py:766: ConvergenceWarning: The optimizer returned code 8. The message is:\nPositive directional derivative for linesearch\nSee scipy.optimize.fmin_slsqp for code meaning.\n\n  warnings.warn(\n/local_disk0/.ephemeral_nfs/envs/pythonEnv-5ff3446d-bd53-4b21-b587-b479c6c40c68/lib/python3.10/site-packages/arch/univariate/base.py:766: ConvergenceWarning: The optimizer returned code 8. The message is:\nPositive directional derivative for linesearch\nSee scipy.optimize.fmin_slsqp for code meaning.\n\n  warnings.warn(\n/local_disk0/.ephemeral_nfs/envs/pythonEnv-5ff3446d-bd53-4b21-b587-b479c6c40c68/lib/python3.10/site-packages/arch/univariate/base.py:766: ConvergenceWarning: The optimizer returned code 8. The message is:\nPositive directional derivative for linesearch\nSee scipy.optimize.fmin_slsqp for code meaning.\n\n  warnings.warn(\n/local_disk0/.ephemeral_nfs/envs/pythonEnv-5ff3446d-bd53-4b21-b587-b479c6c40c68/lib/python3.10/site-packages/arch/univariate/base.py:766: ConvergenceWarning: The optimizer returned code 8. The message is:\nPositive directional derivative for linesearch\nSee scipy.optimize.fmin_slsqp for code meaning.\n\n  warnings.warn(\n/local_disk0/.ephemeral_nfs/envs/pythonEnv-5ff3446d-bd53-4b21-b587-b479c6c40c68/lib/python3.10/site-packages/arch/univariate/base.py:766: ConvergenceWarning: The optimizer returned code 8. The message is:\nPositive directional derivative for linesearch\nSee scipy.optimize.fmin_slsqp for code meaning.\n\n  warnings.warn(\n/local_disk0/.ephemeral_nfs/envs/pythonEnv-5ff3446d-bd53-4b21-b587-b479c6c40c68/lib/python3.10/site-packages/arch/univariate/base.py:766: ConvergenceWarning: The optimizer returned code 8. The message is:\nPo\n\n*** WARNING: max output size exceeded, skipping output. ***\n\npackages/arch/univariate/base.py:766: ConvergenceWarning: The optimizer returned code 8. The message is:\nPositive directional derivative for linesearch\nSee scipy.optimize.fmin_slsqp for code meaning.\n\n  warnings.warn(\n/local_disk0/.ephemeral_nfs/envs/pythonEnv-5ff3446d-bd53-4b21-b587-b479c6c40c68/lib/python3.10/site-packages/arch/univariate/base.py:766: ConvergenceWarning: The optimizer returned code 8. The message is:\nPositive directional derivative for linesearch\nSee scipy.optimize.fmin_slsqp for code meaning.\n\n  warnings.warn(\n/local_disk0/.ephemeral_nfs/envs/pythonEnv-5ff3446d-bd53-4b21-b587-b479c6c40c68/lib/python3.10/site-packages/arch/univariate/base.py:766: ConvergenceWarning: The optimizer returned code 8. The message is:\nPositive directional derivative for linesearch\nSee scipy.optimize.fmin_slsqp for code meaning.\n\n  warnings.warn(\n/local_disk0/.ephemeral_nfs/envs/pythonEnv-5ff3446d-bd53-4b21-b587-b479c6c40c68/lib/python3.10/site-packages/arch/univariate/base.py:766: ConvergenceWarning: The optimizer returned code 8. The message is:\nPositive directional derivative for linesearch\nSee scipy.optimize.fmin_slsqp for code meaning.\n\n  warnings.warn(\n/local_disk0/.ephemeral_nfs/envs/pythonEnv-5ff3446d-bd53-4b21-b587-b479c6c40c68/lib/python3.10/site-packages/arch/univariate/base.py:766: ConvergenceWarning: The optimizer returned code 8. The message is:\nPositive directional derivative for linesearch\nSee scipy.optimize.fmin_slsqp for code meaning.\n\n  warnings.warn(\n/local_disk0/.ephemeral_nfs/envs/pythonEnv-5ff3446d-bd53-4b21-b587-b479c6c40c68/lib/python3.10/site-packages/arch/univariate/base.py:766: ConvergenceWarning: The optimizer returned code 8. The message is:\nPositive directional derivative for linesearch\nSee scipy.optimize.fmin_slsqp for code meaning.\n\n  warnings.warn(\n/local_disk0/.ephemeral_nfs/envs/pythonEnv-5ff3446d-bd53-4b21-b587-b479c6c40c68/lib/python3.10/site-packages/arch/univariate/base.py:766: ConvergenceWarning: The optimizer returned code 8. The message is:\nPositive directional derivative for linesearch\nSee scipy.optimize.fmin_slsqp for code meaning.\n\n  warnings.warn(\n/local_disk0/.ephemeral_nfs/envs/pythonEnv-5ff3446d-bd53-4b21-b587-b479c6c40c68/lib/python3.10/site-packages/arch/univariate/base.py:766: ConvergenceWarning: The optimizer returned code 8. The message is:\nPositive directional derivative for linesearch\nSee scipy.optimize.fmin_slsqp for code meaning.\n\n  warnings.warn(\n/local_disk0/.ephemeral_nfs/envs/pythonEnv-5ff3446d-bd53-4b21-b587-b479c6c40c68/lib/python3.10/site-packages/arch/univariate/base.py:766: ConvergenceWarning: The optimizer returned code 8. The message is:\nPositive directional derivative for linesearch\nSee scipy.optimize.fmin_slsqp for code meaning.\n\n  warnings.warn(\n/local_disk0/.ephemeral_nfs/envs/pythonEnv-5ff3446d-bd53-4b21-b587-b479c6c40c68/lib/python3.10/site-packages/arch/univariate/base.py:766: ConvergenceWarning: The optimizer returned code 8. The message is:\nPositive directional derivative for linesearch\nSee scipy.optimize.fmin_slsqp for code meaning.\n\n  warnings.warn(\n/local_disk0/.ephemeral_nfs/envs/pythonEnv-5ff3446d-bd53-4b21-b587-b479c6c40c68/lib/python3.10/site-packages/arch/univariate/base.py:766: ConvergenceWarning: The optimizer returned code 8. The message is:\nPositive directional derivative for linesearch\nSee scipy.optimize.fmin_slsqp for code meaning.\n\n  warnings.warn(\n/local_disk0/.ephemeral_nfs/envs/pythonEnv-5ff3446d-bd53-4b21-b587-b479c6c40c68/lib/python3.10/site-packages/arch/univariate/base.py:766: ConvergenceWarning: The optimizer returned code 8. The message is:\nPositive directional derivative for linesearch\nSee scipy.optimize.fmin_slsqp for code meaning.\n\n  warnings.warn(\n/local_disk0/.ephemeral_nfs/envs/pythonEnv-5ff3446d-bd53-4b21-b587-b479c6c40c68/lib/python3.10/site-packages/arch/univariate/base.py:766: ConvergenceWarning: The optimizer returned code 8. The message is:\nPositive directional derivative for linesearch\nSee scipy.optimize.fmin_slsqp for code meaning.\n\n  warnings.warn(\n/local_disk0/.ephemeral_nfs/envs/pythonEnv-5ff3446d-bd53-4b21-b587-b479c6c40c68/lib/python3.10/site-packages/arch/univariate/base.py:766: ConvergenceWarning: The optimizer returned code 8. The message is:\nPositive directional derivative for linesearch\nSee scipy.optimize.fmin_slsqp for code meaning.\n\n  warnings.warn(\n/local_disk0/.ephemeral_nfs/envs/pythonEnv-5ff3446d-bd53-4b21-b587-b479c6c40c68/lib/python3.10/site-packages/arch/univariate/base.py:766: ConvergenceWarning: The optimizer returned code 8. The message is:\nPositive directional derivative for linesearch\nSee scipy.optimize.fmin_slsqp for code meaning.\n\n  warnings.warn(\n/local_disk0/.ephemeral_nfs/envs/pythonEnv-5ff3446d-bd53-4b21-b587-b479c6c40c68/lib/python3.10/site-packages/arch/univariate/base.py:766: ConvergenceWarning: The optimizer returned code 8. The message is:\nPositive directional derivative for linesearch\nSee scipy.optimize.fmin_slsqp for code meaning.\n\n  warnings.warn(\n/local_disk0/.ephemeral_nfs/envs/pythonEnv-5ff3446d-bd53-4b21-b587-b479c6c40c68/lib/python3.10/site-packages/arch/univariate/base.py:766: ConvergenceWarning: The optimizer returned code 8. The message is:\nPositive directional derivative for linesearch\nSee scipy.optimize.fmin_slsqp for code meaning.\n\n  warnings.warn(\n/local_disk0/.ephemeral_nfs/envs/pythonEnv-5ff3446d-bd53-4b21-b587-b479c6c40c68/lib/python3.10/site-packages/arch/univariate/base.py:766: ConvergenceWarning: The optimizer returned code 8. The message is:\nPositive directional derivative for linesearch\nSee scipy.optimize.fmin_slsqp for code meaning.\n\n  warnings.warn(\n/local_disk0/.ephemeral_nfs/envs/pythonEnv-5ff3446d-bd53-4b21-b587-b479c6c40c68/lib/python3.10/site-packages/arch/univariate/base.py:766: ConvergenceWarning: The optimizer returned code 8. The message is:\nPositive directional derivative for linesearch\nSee scipy.optimize.fmin_slsqp for code meaning.\n\n  warnings.warn(\n/local_disk0/.ephemeral_nfs/envs/pythonEnv-5ff3446d-bd53-4b21-b587-b479c6c40c68/lib/python3.10/site-packages/arch/univariate/base.py:766: ConvergenceWarning: The optimizer returned code 8. The message is:\nPositive directional derivative for linesearch\nSee scipy.optimize.fmin_slsqp for code meaning.\n\n  warnings.warn(\n/local_disk0/.ephemeral_nfs/envs/pythonEnv-5ff3446d-bd53-4b21-b587-b479c6c40c68/lib/python3.10/site-packages/arch/univariate/base.py:766: ConvergenceWarning: The optimizer returned code 8. The message is:\nPositive directional derivative for linesearch\nSee scipy.optimize.fmin_slsqp for code meaning.\n\n  warnings.warn(\n/local_disk0/.ephemeral_nfs/envs/pythonEnv-5ff3446d-bd53-4b21-b587-b479c6c40c68/lib/python3.10/site-packages/arch/univariate/base.py:766: ConvergenceWarning: The optimizer returned code 8. The message is:\nPositive directional derivative for linesearch\nSee scipy.optimize.fmin_slsqp for code meaning.\n\n  warnings.warn(\n/local_disk0/.ephemeral_nfs/envs/pythonEnv-5ff3446d-bd53-4b21-b587-b479c6c40c68/lib/python3.10/site-packages/arch/univariate/base.py:766: ConvergenceWarning: The optimizer returned code 8. The message is:\nPositive directional derivative for linesearch\nSee scipy.optimize.fmin_slsqp for code meaning.\n\n  warnings.warn(\n/local_disk0/.ephemeral_nfs/envs/pythonEnv-5ff3446d-bd53-4b21-b587-b479c6c40c68/lib/python3.10/site-packages/arch/univariate/base.py:766: ConvergenceWarning: The optimizer returned code 8. The message is:\nPositive directional derivative for linesearch\nSee scipy.optimize.fmin_slsqp for code meaning.\n\n  warnings.warn(\n/local_disk0/.ephemeral_nfs/envs/pythonEnv-5ff3446d-bd53-4b21-b587-b479c6c40c68/lib/python3.10/site-packages/arch/univariate/base.py:766: ConvergenceWarning: The optimizer returned code 8. The message is:\nPositive directional derivative for linesearch\nSee scipy.optimize.fmin_slsqp for code meaning.\n\n  warnings.warn(\n/local_disk0/.ephemeral_nfs/envs/pythonEnv-5ff3446d-bd53-4b21-b587-b479c6c40c68/lib/python3.10/site-packages/arch/univariate/base.py:766: ConvergenceWarning: The optimizer returned code 8. The message is:\nPositive directional derivative for linesearch\nSee scipy.optimize.fmin_slsqp for code meaning.\n\n  warnings.warn(\n/local_disk0/.ephemeral_nfs/envs/pythonEnv-5ff3446d-bd53-4b21-b587-b479c6c40c68/lib/python3.10/site-packages/arch/univariate/base.py:766: ConvergenceWarning: The optimizer returned code 8. The message is:\nPositive directional derivative for linesearch\nSee scipy.optimize.fmin_slsqp for code meaning.\n\n  warnings.warn(\n/local_disk0/.ephemeral_nfs/envs/pythonEnv-5ff3446d-bd53-4b21-b587-b479c6c40c68/lib/python3.10/site-packages/arch/univariate/base.py:766: ConvergenceWarning: The optimizer returned code 8. The message is:\nPositive directional derivative for linesearch\nSee scipy.optimize.fmin_slsqp for code meaning.\n\n  warnings.warn(\n/local_disk0/.ephemeral_nfs/envs/pythonEnv-5ff3446d-bd53-4b21-b587-b479c6c40c68/lib/python3.10/site-packages/arch/univariate/base.py:766: ConvergenceWarning: The optimizer returned code 8. The message is:\nPositive directional derivative for linesearch\nSee scipy.optimize.fmin_slsqp for code meaning.\n\n  warnings.warn(\n/local_disk0/.ephemeral_nfs/envs/pythonEnv-5ff3446d-bd53-4b21-b587-b479c6c40c68/lib/python3.10/site-packages/arch/univariate/base.py:766: ConvergenceWarning: The optimizer returned code 8. The message is:\nPositive directional derivative for linesearch\nSee scipy.optimize.fmin_slsqp for code meaning.\n\n  warnings.warn(\n/local_disk0/.ephemeral_nfs/envs/pythonEnv-5ff3446d-bd53-4b21-b587-b479c6c40c68/lib/python3.10/site-packages/arch/univariate/base.py:766: ConvergenceWarning: The optimizer returned code 8. The message is:\nPositive directional derivative for linesearch\nSee scipy.optimize.fmin_slsqp for code meaning.\n\n  warnings.warn(\n/local_disk0/.ephemeral_nfs/envs/pythonEnv-5ff3446d-bd53-4b21-b587-b479c6c40c68/lib/python3.10/site-packages/arch/univariate/base.py:766: ConvergenceWarning: The optimizer returned code 4. The message is:\nInequality constraints incompatible\nSee scipy.optimize.fmin_slsqp for code meaning.\n\n  warnings.warn(\n/local_disk0/.ephemeral_nfs/envs/pythonEnv-5ff3446d-bd53-4b21-b587-b479c6c40c68/lib/python3.10/site-packages/arch/univariate/base.py:766: ConvergenceWarning: The optimizer returned code 8. The message is:\nPositive directional derivative for linesearch\nSee scipy.optimize.fmin_slsqp for code meaning.\n\n  warnings.warn(\n/local_disk0/.ephemeral_nfs/envs/pythonEnv-5ff3446d-bd53-4b21-b587-b479c6c40c68/lib/python3.10/site-packages/arch/univariate/base.py:766: ConvergenceWarning: The optimizer returned code 8. The message is:\nPositive directional derivative for linesearch\nSee scipy.optimize.fmin_slsqp for code meaning.\n\n  warnings.warn(\n/local_disk0/.ephemeral_nfs/envs/pythonEnv-5ff3446d-bd53-4b21-b587-b479c6c40c68/lib/python3.10/site-packages/arch/univariate/base.py:766: ConvergenceWarning: The optimizer returned code 8. The message is:\nPositive directional derivative for linesearch\nSee scipy.optimize.fmin_slsqp for code meaning.\n\n  warnings.warn(\n/local_disk0/.ephemeral_nfs/envs/pythonEnv-5ff3446d-bd53-4b21-b587-b479c6c40c68/lib/python3.10/site-packages/arch/univariate/base.py:766: ConvergenceWarning: The optimizer returned code 8. The message is:\nPositive directional derivative for linesearch\nSee scipy.optimize.fmin_slsqp for code meaning.\n\n  warnings.warn(\n/local_disk0/.ephemeral_nfs/envs/pythonEnv-5ff3446d-bd53-4b21-b587-b479c6c40c68/lib/python3.10/site-packages/arch/univariate/base.py:766: ConvergenceWarning: The optimizer returned code 8. The message is:\nPositive directional derivative for linesearch\nSee scipy.optimize.fmin_slsqp for code meaning.\n\n  warnings.warn(\n/local_disk0/.ephemeral_nfs/envs/pythonEnv-5ff3446d-bd53-4b21-b587-b479c6c40c68/lib/python3.10/site-packages/arch/univariate/base.py:766: ConvergenceWarning: The optimizer returned code 8. The message is:\nPositive directional derivative for linesearch\nSee scipy.optimize.fmin_slsqp for code meaning.\n\n  warnings.warn(\n/local_disk0/.ephemeral_nfs/envs/pythonEnv-5ff3446d-bd53-4b21-b587-b479c6c40c68/lib/python3.10/site-packages/arch/univariate/base.py:766: ConvergenceWarning: The optimizer returned code 8. The message is:\nPositive directional derivative for linesearch\nSee scipy.optimize.fmin_slsqp for code meaning.\n\n  warnings.warn(\n/local_disk0/.ephemeral_nfs/envs/pythonEnv-5ff3446d-bd53-4b21-b587-b479c6c40c68/lib/python3.10/site-packages/arch/univariate/base.py:766: ConvergenceWarning: The optimizer returned code 8. The message is:\nPositive directional derivative for linesearch\nSee scipy.optimize.fmin_slsqp for code meaning.\n\n  warnings.warn(\n/local_disk0/.ephemeral_nfs/envs/pythonEnv-5ff3446d-bd53-4b21-b587-b479c6c40c68/lib/python3.10/site-packages/arch/univariate/base.py:766: ConvergenceWarning: The optimizer returned code 8. The message is:\nPositive directional derivative for linesearch\nSee scipy.optimize.fmin_slsqp for code meaning.\n\n  warnings.warn(\n/local_disk0/.ephemeral_nfs/envs/pythonEnv-5ff3446d-bd53-4b21-b587-b479c6c40c68/lib/python3.10/site-packages/arch/univariate/base.py:766: ConvergenceWarning: The optimizer returned code 8. The message is:\nPositive directional derivative for linesearch\nSee scipy.optimize.fmin_slsqp for code meaning.\n\n  warnings.warn(\n/local_disk0/.ephemeral_nfs/envs/pythonEnv-5ff3446d-bd53-4b21-b587-b479c6c40c68/lib/python3.10/site-packages/arch/univariate/base.py:766: ConvergenceWarning: The optimizer returned code 8. The message is:\nPositive directional derivative for linesearch\nSee scipy.optimize.fmin_slsqp for code meaning.\n\n  warnings.warn(\n/local_disk0/.ephemeral_nfs/envs/pythonEnv-5ff3446d-bd53-4b21-b587-b479c6c40c68/lib/python3.10/site-packages/arch/univariate/base.py:766: ConvergenceWarning: The optimizer returned code 8. The message is:\nPositive directional derivative for linesearch\nSee scipy.optimize.fmin_slsqp for code meaning.\n\n  warnings.warn(\n/local_disk0/.ephemeral_nfs/envs/pythonEnv-5ff3446d-bd53-4b21-b587-b479c6c40c68/lib/python3.10/site-packages/arch/univariate/base.py:766: ConvergenceWarning: The optimizer returned code 8. The message is:\nPositive directional derivative for linesearch\nSee scipy.optimize.fmin_slsqp for code meaning.\n\n  warnings.warn(\n/local_disk0/.ephemeral_nfs/envs/pythonEnv-5ff3446d-bd53-4b21-b587-b479c6c40c68/lib/python3.10/site-packages/arch/univariate/base.py:766: ConvergenceWarning: The optimizer returned code 8. The message is:\nPositive directional derivative for linesearch\nSee scipy.optimize.fmin_slsqp for code meaning.\n\n  warnings.warn(\n/local_disk0/.ephemeral_nfs/envs/pythonEnv-5ff3446d-bd53-4b21-b587-b479c6c40c68/lib/python3.10/site-packages/arch/univariate/base.py:766: ConvergenceWarning: The optimizer returned code 8. The message is:\nPositive directional derivative for linesearch\nSee scipy.optimize.fmin_slsqp for code meaning.\n\n  warnings.warn(\n/local_disk0/.ephemeral_nfs/envs/pythonEnv-5ff3446d-bd53-4b21-b587-b479c6c40c68/lib/python3.10/site-packages/arch/univariate/base.py:766: ConvergenceWarning: The optimizer returned code 8. The message is:\nPositive directional derivative for linesearch\nSee scipy.optimize.fmin_slsqp for code meaning.\n\n  warnings.warn(\n/local_disk0/.ephemeral_nfs/envs/pythonEnv-5ff3446d-bd53-4b21-b587-b479c6c40c68/lib/python3.10/site-packages/arch/univariate/base.py:766: ConvergenceWarning: The optimizer returned code 8. The message is:\nPositive directional derivative for linesearch\nSee scipy.optimize.fmin_slsqp for code meaning.\n\n  warnings.warn(\n/local_disk0/.ephemeral_nfs/envs/pythonEnv-5ff3446d-bd53-4b21-b587-b479c6c40c68/lib/python3.10/site-packages/arch/univariate/base.py:766: ConvergenceWarning: The optimizer returned code 8. The message is:\nPositive directional derivative for linesearch\nSee scipy.optimize.fmin_slsqp for code meaning.\n\n  warnings.warn(\n/local_disk0/.ephemeral_nfs/envs/pythonEnv-5ff3446d-bd53-4b21-b587-b479c6c40c68/lib/python3.10/site-packages/arch/univariate/base.py:766: ConvergenceWarning: The optimizer returned code 8. The message is:\nPositive directional derivative for linesearch\nSee scipy.optimize.fmin_slsqp for code meaning.\n\n  warnings.warn(\n/local_disk0/.ephemeral_nfs/envs/pythonEnv-5ff3446d-bd53-4b21-b587-b479c6c40c68/lib/python3.10/site-packages/arch/univariate/base.py:766: ConvergenceWarning: The optimizer returned code 8. The message is:\nPositive directional derivative for linesearch\nSee scipy.optimize.fmin_slsqp for code meaning.\n\n  warnings.warn(\n/local_disk0/.ephemeral_nfs/envs/pythonEnv-5ff3446d-bd53-4b21-b587-b479c6c40c68/lib/python3.10/site-packages/arch/univariate/base.py:766: ConvergenceWarning: The optimizer returned code 8. The message is:\nPositive directional derivative for linesearch\nSee scipy.optimize.fmin_slsqp for code meaning.\n\n  warnings.warn(\n/local_disk0/.ephemeral_nfs/envs/pythonEnv-5ff3446d-bd53-4b21-b587-b479c6c40c68/lib/python3.10/site-packages/arch/univariate/base.py:766: ConvergenceWarning: The optimizer returned code 8. The message is:\nPositive directional derivative for linesearch\nSee scipy.optimize.fmin_slsqp for code meaning.\n\n  warnings.warn(\n/local_disk0/.ephemeral_nfs/envs/pythonEnv-5ff3446d-bd53-4b21-b587-b479c6c40c68/lib/python3.10/site-packages/arch/univariate/base.py:766: ConvergenceWarning: The optimizer returned code 8. The message is:\nPositive directional derivative for linesearch\nSee scipy.optimize.fmin_slsqp for code meaning.\n\n  warnings.warn(\n/local_disk0/.ephemeral_nfs/envs/pythonEnv-5ff3446d-bd53-4b21-b587-b479c6c40c68/lib/python3.10/site-packages/arch/univariate/base.py:766: ConvergenceWarning: The optimizer returned code 8. The message is:\nPositive directional derivative for linesearch\nSee scipy.optimize.fmin_slsqp for code meaning.\n\n  warnings.warn(\n/local_disk0/.ephemeral_nfs/envs/pythonEnv-5ff3446d-bd53-4b21-b587-b479c6c40c68/lib/python3.10/site-packages/arch/univariate/base.py:766: ConvergenceWarning: The optimizer returned code 8. The message is:\nPositive directional derivative for linesearch\nSee scipy.optimize.fmin_slsqp for code meaning.\n\n  warnings.warn(\n/local_disk0/.ephemeral_nfs/envs/pythonEnv-5ff3446d-bd53-4b21-b587-b479c6c40c68/lib/python3.10/site-packages/arch/univariate/base.py:766: ConvergenceWarning: The optimizer returned code 8. The message is:\nPositive directional derivative for linesearch\nSee scipy.optimize.fmin_slsqp for code meaning.\n\n  warnings.warn(\n/local_disk0/.ephemeral_nfs/envs/pythonEnv-5ff3446d-bd53-4b21-b587-b479c6c40c68/lib/python3.10/site-packages/arch/univariate/base.py:766: ConvergenceWarning: The optimizer returned code 8. The message is:\nPositive directional derivative for linesearch\nSee scipy.optimize.fmin_slsqp for code meaning.\n\n  warnings.warn(\n/local_disk0/.ephemeral_nfs/envs/pythonEnv-5ff3446d-bd53-4b21-b587-b479c6c40c68/lib/python3.10/site-packages/arch/univariate/base.py:766: ConvergenceWarning: The optimizer returned code 8. The message is:\nPositive directional derivative for linesearch\nSee scipy.optimize.fmin_slsqp for code meaning.\n\n  warnings.warn(\n/local_disk0/.ephemeral_nfs/envs/pythonEnv-5ff3446d-bd53-4b21-b587-b479c6c40c68/lib/python3.10/site-packages/arch/univariate/base.py:766: ConvergenceWarning: The optimizer returned code 8. The message is:\nPositive directional derivative for linesearch\nSee scipy.optimize.fmin_slsqp for code meaning.\n\n  warnings.warn(\n/local_disk0/.ephemeral_nfs/envs/pythonEnv-5ff3446d-bd53-4b21-b587-b479c6c40c68/lib/python3.10/site-packages/arch/univariate/base.py:766: ConvergenceWarning: The optimizer returned code 8. The message is:\nPositive directional derivative for linesearch\nSee scipy.optimize.fmin_slsqp for code meaning.\n\n  warnings.warn(\n/local_disk0/.ephemeral_nfs/envs/pythonEnv-5ff3446d-bd53-4b21-b587-b479c6c40c68/lib/python3.10/site-packages/arch/univariate/base.py:766: ConvergenceWarning: The optimizer returned code 8. The message is:\nPositive directional derivative for linesearch\nSee scipy.optimize.fmin_slsqp for code meaning.\n\n  warnings.warn(\n/local_disk0/.ephemeral_nfs/envs/pythonEnv-5ff3446d-bd53-4b21-b587-b479c6c40c68/lib/python3.10/site-packages/arch/univariate/base.py:766: ConvergenceWarning: The optimizer returned code 8. The message is:\nPositive directional derivative for linesearch\nSee scipy.optimize.fmin_slsqp for code meaning.\n\n  warnings.warn(\n/local_disk0/.ephemeral_nfs/envs/pythonEnv-5ff3446d-bd53-4b21-b587-b479c6c40c68/lib/python3.10/site-packages/arch/univariate/base.py:766: ConvergenceWarning: The optimizer returned code 4. The message is:\nInequality constraints incompatible\nSee scipy.optimize.fmin_slsqp for code meaning.\n\n  warnings.warn(\n/local_disk0/.ephemeral_nfs/envs/pythonEnv-5ff3446d-bd53-4b21-b587-b479c6c40c68/lib/python3.10/site-packages/arch/univariate/base.py:766: ConvergenceWarning: The optimizer returned code 8. The message is:\nPositive directional derivative for linesearch\nSee scipy.optimize.fmin_slsqp for code meaning.\n\n  warnings.warn(\n/local_disk0/.ephemeral_nfs/envs/pythonEnv-5ff3446d-bd53-4b21-b587-b479c6c40c68/lib/python3.10/site-packages/arch/univariate/base.py:766: ConvergenceWarning: The optimizer returned code 8. The message is:\nPositive directional derivative for linesearch\nSee scipy.optimize.fmin_slsqp for code meaning.\n\n  warnings.warn(\n/local_disk0/.ephemeral_nfs/envs/pythonEnv-5ff3446d-bd53-4b21-b587-b479c6c40c68/lib/python3.10/site-packages/arch/univariate/base.py:766: ConvergenceWarning: The optimizer returned code 8. The message is:\nPositive directional derivative for linesearch\nSee scipy.optimize.fmin_slsqp for code meaning.\n\n  warnings.warn(\n/local_disk0/.ephemeral_nfs/envs/pythonEnv-5ff3446d-bd53-4b21-b587-b479c6c40c68/lib/python3.10/site-packages/arch/univariate/base.py:766: ConvergenceWarning: The optimizer returned code 8. The message is:\nPositive directional derivative for linesearch\nSee scipy.optimize.fmin_slsqp for code meaning.\n\n  warnings.warn(\n/local_disk0/.ephemeral_nfs/envs/pythonEnv-5ff3446d-bd53-4b21-b587-b479c6c40c68/lib/python3.10/site-packages/arch/univariate/base.py:766: ConvergenceWarning: The optimizer returned code 8. The message is:\nPositive directional derivative for linesearch\nSee scipy.optimize.fmin_slsqp for code meaning.\n\n  warnings.warn(\n/local_disk0/.ephemeral_nfs/envs/pythonEnv-5ff3446d-bd53-4b21-b587-b479c6c40c68/lib/python3.10/site-packages/arch/univariate/base.py:766: ConvergenceWarning: The optimizer returned code 8. The message is:\nPositive directional derivative for linesearch\nSee scipy.optimize.fmin_slsqp for code meaning.\n\n  warnings.warn(\n/local_disk0/.ephemeral_nfs/envs/pythonEnv-5ff3446d-bd53-4b21-b587-b479c6c40c68/lib/python3.10/site-packages/arch/univariate/base.py:766: ConvergenceWarning: The optimizer returned code 8. The message is:\nPositive directional derivative for linesearch\nSee scipy.optimize.fmin_slsqp for code meaning.\n\n  warnings.warn(\n/local_disk0/.ephemeral_nfs/envs/pythonEnv-5ff3446d-bd53-4b21-b587-b479c6c40c68/lib/python3.10/site-packages/arch/univariate/base.py:766: ConvergenceWarning: The optimizer returned code 8. The message is:\nPositive directional derivative for linesearch\nSee scipy.optimize.fmin_slsqp for code meaning.\n\n  warnings.warn(\n/local_disk0/.ephemeral_nfs/envs/pythonEnv-5ff3446d-bd53-4b21-b587-b479c6c40c68/lib/python3.10/site-packages/arch/univariate/base.py:766: ConvergenceWarning: The optimizer returned code 8. The message is:\nPositive directional derivative for linesearch\nSee scipy.optimize.fmin_slsqp for code meaning.\n\n  warnings.warn(\n/local_disk0/.ephemeral_nfs/envs/pythonEnv-5ff3446d-bd53-4b21-b587-b479c6c40c68/lib/python3.10/site-packages/arch/univariate/base.py:766: ConvergenceWarning: The optimizer returned code 8. The message is:\nPositive directional derivative for linesearch\nSee scipy.optimize.fmin_slsqp for code meaning.\n\n  warnings.warn(\n/local_disk0/.ephemeral_nfs/envs/pythonEnv-5ff3446d-bd53-4b21-b587-b479c6c40c68/lib/python3.10/site-packages/arch/univariate/base.py:766: ConvergenceWarning: The optimizer returned code 8. The message is:\nPositive directional derivative for linesearch\nSee scipy.optimize.fmin_slsqp for code meaning.\n\n  warnings.warn(\n/local_disk0/.ephemeral_nfs/envs/pythonEnv-5ff3446d-bd53-4b21-b587-b479c6c40c68/lib/python3.10/site-packages/arch/univariate/base.py:766: ConvergenceWarning: The optimizer returned code 8. The message is:\nPositive directional derivative for linesearch\nSee scipy.optimize.fmin_slsqp for code meaning.\n\n  warnings.warn(\n/local_disk0/.ephemeral_nfs/envs/pythonEnv-5ff3446d-bd53-4b21-b587-b479c6c40c68/lib/python3.10/site-packages/arch/univariate/base.py:766: ConvergenceWarning: The optimizer returned code 8. The message is:\nPositive directional derivative for linesearch\nSee scipy.optimize.fmin_slsqp for code meaning.\n\n  warnings.warn(\n/local_disk0/.ephemeral_nfs/envs/pythonEnv-5ff3446d-bd53-4b21-b587-b479c6c40c68/lib/python3.10/site-packages/arch/univariate/base.py:766: ConvergenceWarning: The optimizer returned code 8. The message is:\nPositive directional derivative for linesearch\nSee scipy.optimize.fmin_slsqp for code meaning.\n\n  warnings.warn(\n"
     ]
    },
    {
     "output_type": "display_data",
     "data": {
      "text/html": [
       "<style scoped>\n",
       "  .ansiout {\n",
       "    display: block;\n",
       "    unicode-bidi: embed;\n",
       "    white-space: pre-wrap;\n",
       "    word-wrap: break-word;\n",
       "    word-break: break-all;\n",
       "    font-family: \"Menlo\", \"Monaco\", \"Consolas\", \"Ubuntu Mono\", \"Source Code Pro\", monospace;\n",
       "    font-size: 13px;\n",
       "    color: #555;\n",
       "    margin-left: 4px;\n",
       "    line-height: 19px;\n",
       "  }\n",
       "</style>"
      ]
     },
     "metadata": {
      "application/vnd.databricks.v1+output": {
       "arguments": {},
       "data": "",
       "errorSummary": "Cancelled",
       "errorTraceType": "html",
       "metadata": {},
       "type": "ipynbError"
      }
     },
     "output_type": "display_data"
    }
   ],
   "source": [
    "# Definir los parámetros\n",
    "window_size = 7 * 24 * 4  # Una semana de datos con intervalos de 15 minutos\n",
    "prediction_interval = 4  # 1 hora de datos con intervalos de 15 minutos\n",
    "\n",
    "pred_garch = apply_pipeline_to_all_segments(df, 'street', window_size, prediction_interval)"
   ]
  },
  {
   "cell_type": "code",
   "execution_count": 0,
   "metadata": {
    "application/vnd.databricks.v1+cell": {
     "cellMetadata": {
      "byteLimit": 2048000,
      "rowLimit": 10000
     },
     "inputWidgets": {},
     "nuid": "d9e9698f-70d5-4861-94d7-e1f0063118f8",
     "showTitle": false,
     "title": ""
    }
   },
   "outputs": [
    {
     "output_type": "display_data",
     "data": {
      "text/plain": [
       "\u001B[0;31m---------------------------------------------------------------------------\u001B[0m\n",
       "\u001B[0;31mNameError\u001B[0m                                 Traceback (most recent call last)\n",
       "File \u001B[0;32m<command-4036084344772016>, line 1\u001B[0m\n",
       "\u001B[0;32m----> 1\u001B[0m display(\u001B[43mpred_garch\u001B[49m)\n",
       "\n",
       "\u001B[0;31mNameError\u001B[0m: name 'pred_garch' is not defined"
      ]
     },
     "metadata": {
      "application/vnd.databricks.v1+output": {
       "arguments": {},
       "data": "\u001B[0;31m---------------------------------------------------------------------------\u001B[0m\n\u001B[0;31mNameError\u001B[0m                                 Traceback (most recent call last)\nFile \u001B[0;32m<command-4036084344772016>, line 1\u001B[0m\n\u001B[0;32m----> 1\u001B[0m display(\u001B[43mpred_garch\u001B[49m)\n\n\u001B[0;31mNameError\u001B[0m: name 'pred_garch' is not defined",
       "errorSummary": "<span class='ansi-red-fg'>NameError</span>: name 'pred_garch' is not defined",
       "errorTraceType": "ansi",
       "metadata": {},
       "type": "ipynbError"
      }
     },
     "output_type": "display_data"
    }
   ],
   "source": [
    "display(pred_garch)"
   ]
  },
  {
   "cell_type": "code",
   "execution_count": 0,
   "metadata": {
    "application/vnd.databricks.v1+cell": {
     "cellMetadata": {},
     "inputWidgets": {},
     "nuid": "bcddd432-64d7-4065-8fb8-60e434569c5a",
     "showTitle": false,
     "title": ""
    }
   },
   "outputs": [],
   "source": [
    "pred_garch_spark = spark.createDataFrame(pred_garch.reset_index())"
   ]
  },
  {
   "cell_type": "code",
   "execution_count": 0,
   "metadata": {
    "application/vnd.databricks.v1+cell": {
     "cellMetadata": {},
     "inputWidgets": {},
     "nuid": "4121b993-05c9-4ede-9468-81683cf517b8",
     "showTitle": false,
     "title": ""
    }
   },
   "outputs": [],
   "source": [
    "result_garch = df.join(\n",
    "    pred_garch_spark,\n",
    "    (df[\"street\"] == pred_garch_spark[\"ID\"]) & (df[\"datetime_full\"] == pred_garch_spark[\"index\"]),\n",
    "    how=\"left\"\n",
    ")\n",
    "\n",
    "# Opcional: Si quieres renombrar las columnas después del join\n",
    "result_comb = result_garch.withColumnRenamed(\"pred_garch\", \"pred_garch_spark\")"
   ]
  },
  {
   "cell_type": "code",
   "execution_count": 0,
   "metadata": {
    "application/vnd.databricks.v1+cell": {
     "cellMetadata": {},
     "inputWidgets": {},
     "nuid": "9d96a44f-f63b-4379-ae47-8dcb629ae58f",
     "showTitle": false,
     "title": ""
    }
   },
   "outputs": [],
   "source": [
    "# Unir las predicciones con los datos originales\n",
    "pdf_with_pred_garch = pdf.join(pred_garch.set_index(['ID', pred_garch.index]), how=\"left\", on=['ID', pdf.index])\n"
   ]
  },
  {
   "cell_type": "code",
   "execution_count": 0,
   "metadata": {
    "application/vnd.databricks.v1+cell": {
     "cellMetadata": {},
     "inputWidgets": {},
     "nuid": "20b0f744-93fc-461d-b190-44790544d236",
     "showTitle": false,
     "title": ""
    }
   },
   "outputs": [],
   "source": [
    "def apply_pipeline_to_all_segments(pdf, id_column, window_size, prediction_interval):\n",
    "    result_df = pd.DataFrame()\n",
    "\n",
    "    # Agrupar el dataframe por ID y aplicar la función de predicción\n",
    "    for id_value, segment in pdf.groupby(id_column):\n",
    "        pred_df = predict_for_segment(segment, window_size, prediction_interval)\n",
    "        \n",
    "        # Agregar la columna ID a las predicciones para mantener la referencia\n",
    "        pred_df[id_column] = id_value\n",
    "        \n",
    "        # Hacer append de las predicciones al resultado final\n",
    "        result_df = pd.concat([result_df, pred_df], axis=0)\n",
    "    \n",
    "    return result_df\n",
    "\n",
    "# Definir los parámetros\n",
    "window_size = 7 * 24 * 4  # Una semana de datos con intervalos de 15 minutos\n",
    "prediction_interval = 4  # 1 hora de datos con intervalos de 15 minutos\n",
    "\n",
    "# Aplicar el pipeline al dataframe segmentado por el ID\n",
    "pred_garch = apply_pipeline_to_all_segments(pdf, 'ID', window_size, prediction_interval)\n"
   ]
  },
  {
   "cell_type": "markdown",
   "metadata": {
    "application/vnd.databricks.v1+cell": {
     "cellMetadata": {},
     "inputWidgets": {},
     "nuid": "186b4372-d58c-4320-b29b-8b68a2739453",
     "showTitle": false,
     "title": ""
    }
   },
   "source": [
    "### Modelo LSTM - Pipeline"
   ]
  },
  {
   "cell_type": "code",
   "execution_count": 0,
   "metadata": {
    "application/vnd.databricks.v1+cell": {
     "cellMetadata": {},
     "inputWidgets": {},
     "nuid": "dd97abb0-cc19-42e3-a033-9aaa5dba3b0d",
     "showTitle": false,
     "title": ""
    }
   },
   "outputs": [],
   "source": [
    "# Definir la función create_dataset\n",
    "def create_dataset(series, timesteps=1, prediction_interval=4):\n",
    "    X, y = [], []\n",
    "    for i in range(len(series) - timesteps - prediction_interval + 1):\n",
    "        X.append(series[i:(i + timesteps), 0])\n",
    "        y.append(series[i + timesteps + prediction_interval - 1, 0])\n",
    "    return np.array(X), np.array(y)\n",
    "\n",
    "# Parámetros del modelo\n",
    "timesteps = 672\n",
    "prediction_interval = 4\n",
    "learning_rate = 0.00534\n",
    "epochs = 9\n",
    "batch_size = 4\n",
    "\n",
    "# Crear una lista para almacenar los resultados\n",
    "all_predictions = []\n",
    "\n",
    "# Asumimos que pdf es un DataFrame que contiene una columna 'ID' para la segmentación\n",
    "for id_value in pdf['ID'].unique():\n",
    "    # Filtrar los datos para el ID actual\n",
    "    data_segment = pdf[pdf['ID'] == id_value]\n",
    "    \n",
    "    # Normalizar los datos\n",
    "    scaler = MinMaxScaler(feature_range=(0, 1))\n",
    "    scaled_data = scaler.fit_transform(data_segment[\"count\"].values.reshape(-1, 1))\n",
    "\n",
    "    # Crear el dataset para la LSTM\n",
    "    X, y = create_dataset(scaled_data, timesteps, prediction_interval)\n",
    "    \n",
    "    # Reshape de los datos para LSTM [samples, timesteps, features]\n",
    "    X = np.reshape(X, (X.shape[0], timesteps, 1))\n",
    "    \n",
    "    # Definir el optimizador Adam con el learning rate óptimo\n",
    "    optimizer = Adam(learning_rate=learning_rate)\n",
    "\n",
    "    # Definir el modelo LSTM\n",
    "    model = Sequential()\n",
    "    model.add(LSTM(96, return_sequences=True, input_shape=(timesteps, 1)))\n",
    "    model.add(LSTM(48))\n",
    "    model.add(Dense(1))\n",
    "    model.compile(loss='mean_squared_error', optimizer=optimizer)\n",
    "\n",
    "    # Entrenar el modelo\n",
    "    model.fit(X, y, epochs=epochs, batch_size=batch_size, validation_split=0.2, verbose=1)\n",
    "    \n",
    "    # Hacer predicciones\n",
    "    predictions = model.predict(X)\n",
    "    \n",
    "    # Desescalar las predicciones\n",
    "    predictions = scaler.inverse_transform(predictions)\n",
    "    \n",
    "    # Crear un índice para las predicciones\n",
    "    pred_index = data_segment.index[timesteps + prediction_interval - 1: timesteps + prediction_interval - 1 + len(predictions)]\n",
    "    \n",
    "    # Convertir las predicciones a DataFrame de pandas\n",
    "    pred_df = pd.DataFrame(predictions, index=pred_index, columns=[\"predictions\"])\n",
    "    \n",
    "    # Agregar una columna con el ID para la fusión posterior\n",
    "    pred_df['ID'] = id_value\n",
    "    \n",
    "    # Añadir las predicciones a la lista de resultados\n",
    "    all_predictions.append(pred_df)\n",
    "\n",
    "# Concatenar todas las predicciones en un único DataFrame\n",
    "pred_lstm = pd.concat(all_predictions)\n",
    "\n",
    "# Unir las predicciones con los datos originales\n",
    "pdf_with_pred_lstm = pdf.merge(pred_lstm, on=['ID'], how='left')\n"
   ]
  }
 ],
 "metadata": {
  "application/vnd.databricks.v1+notebook": {
   "dashboards": [],
   "environmentMetadata": null,
   "language": "python",
   "notebookMetadata": {
    "pythonIndentUnit": 4
   },
   "notebookName": "TRN_Prediction pipeline",
   "widgets": {}
  }
 },
 "nbformat": 4,
 "nbformat_minor": 0
}
